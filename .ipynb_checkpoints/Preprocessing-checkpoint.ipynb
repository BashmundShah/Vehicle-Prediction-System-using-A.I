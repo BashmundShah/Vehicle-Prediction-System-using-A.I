{
 "cells": [
  {
   "cell_type": "code",
   "execution_count": 301,
   "metadata": {},
   "outputs": [],
   "source": [
    "import pandas as pd\n",
    "import numpy as np"
   ]
  },
  {
   "cell_type": "code",
   "execution_count": 302,
   "metadata": {},
   "outputs": [],
   "source": [
    "df1=pd.read_csv(\"cars/corolla.csv\")\n",
    "df2=pd.read_csv(\"cars/mazda.csv\")\n",
    "df3=pd.read_csv(\"cars/pajero.csv\")\n",
    "df4=pd.read_csv(\"cars/suzuki-mehran1.csv\")"
   ]
  },
  {
   "cell_type": "code",
   "execution_count": 303,
   "metadata": {},
   "outputs": [
    {
     "data": {
      "text/plain": [
       "(3525, 21)"
      ]
     },
     "execution_count": 303,
     "metadata": {},
     "output_type": "execute_result"
    }
   ],
   "source": [
    "df=pd.concat([df1,df2,df3,df4])\n",
    "df.shape"
   ]
  },
  {
   "cell_type": "code",
   "execution_count": 304,
   "metadata": {},
   "outputs": [
    {
     "data": {
      "text/plain": [
       "Index(['ID', 'Make', 'Model', 'Price', 'ModelDate', 'KmRun', 'EngineType',\n",
       "       'City', 'Color', 'EngineCapacity'],\n",
       "      dtype='object')"
      ]
     },
     "execution_count": 304,
     "metadata": {},
     "output_type": "execute_result"
    }
   ],
   "source": [
    "df=df.drop(['Link','image1','image2','image3','image4','image5','name','Assembly','Features','Energy','Version'],axis=1)\n",
    "df.columns = df.columns.str.replace(' ', '')\n",
    "df.columns"
   ]
  },
  {
   "cell_type": "code",
   "execution_count": 305,
   "metadata": {},
   "outputs": [],
   "source": [
    "df.Price=df.Price.str.extract('(\\d+.\\d+)')\n",
    "df.Price=pd.to_numeric(df.Price,errors=\"coerce\")*100000"
   ]
  },
  {
   "cell_type": "code",
   "execution_count": 306,
   "metadata": {},
   "outputs": [],
   "source": [
    "df.rename(columns={'ModelDate':'Year'},inplace=True)\n",
    "df.rename(columns={'KmRun':'Mileage'},inplace=True)"
   ]
  },
  {
   "cell_type": "code",
   "execution_count": 307,
   "metadata": {},
   "outputs": [
    {
     "data": {
      "text/html": [
       "<div>\n",
       "<style scoped>\n",
       "    .dataframe tbody tr th:only-of-type {\n",
       "        vertical-align: middle;\n",
       "    }\n",
       "\n",
       "    .dataframe tbody tr th {\n",
       "        vertical-align: top;\n",
       "    }\n",
       "\n",
       "    .dataframe thead th {\n",
       "        text-align: right;\n",
       "    }\n",
       "</style>\n",
       "<table border=\"1\" class=\"dataframe\">\n",
       "  <thead>\n",
       "    <tr style=\"text-align: right;\">\n",
       "      <th></th>\n",
       "      <th>ID</th>\n",
       "      <th>Make</th>\n",
       "      <th>Model</th>\n",
       "      <th>Price</th>\n",
       "      <th>Year</th>\n",
       "      <th>Mileage</th>\n",
       "      <th>EngineType</th>\n",
       "      <th>City</th>\n",
       "      <th>Color</th>\n",
       "      <th>EngineCapacity</th>\n",
       "    </tr>\n",
       "  </thead>\n",
       "  <tbody>\n",
       "    <tr>\n",
       "      <th>0</th>\n",
       "      <td>1</td>\n",
       "      <td>Toyota</td>\n",
       "      <td>Corolla</td>\n",
       "      <td>1975000.0</td>\n",
       "      <td>2016</td>\n",
       "      <td>\\n\\n55,127 km</td>\n",
       "      <td>\\n\\nAutomatic</td>\n",
       "      <td>Karachi</td>\n",
       "      <td>Black</td>\n",
       "      <td>1300 cc</td>\n",
       "    </tr>\n",
       "    <tr>\n",
       "      <th>1</th>\n",
       "      <td>2</td>\n",
       "      <td>Toyota</td>\n",
       "      <td>Corolla</td>\n",
       "      <td>NaN</td>\n",
       "      <td>2018</td>\n",
       "      <td>\\n\\n6,404 km</td>\n",
       "      <td>\\n\\nManual</td>\n",
       "      <td>Karachi</td>\n",
       "      <td>Bronze Mica</td>\n",
       "      <td>1300 cc</td>\n",
       "    </tr>\n",
       "    <tr>\n",
       "      <th>2</th>\n",
       "      <td>3</td>\n",
       "      <td>Toyota</td>\n",
       "      <td>Corolla</td>\n",
       "      <td>NaN</td>\n",
       "      <td>2015</td>\n",
       "      <td>\\n\\n52,000 km</td>\n",
       "      <td>\\n\\nAutomatic</td>\n",
       "      <td>Karachi</td>\n",
       "      <td>Silver</td>\n",
       "      <td>1300 cc</td>\n",
       "    </tr>\n",
       "    <tr>\n",
       "      <th>3</th>\n",
       "      <td>4</td>\n",
       "      <td>Toyota</td>\n",
       "      <td>Corolla</td>\n",
       "      <td>1225000.0</td>\n",
       "      <td>2006</td>\n",
       "      <td>\\n\\n127,000 km</td>\n",
       "      <td>\\n\\nAutomatic</td>\n",
       "      <td>Lahore</td>\n",
       "      <td>Grey</td>\n",
       "      <td>1800 cc</td>\n",
       "    </tr>\n",
       "    <tr>\n",
       "      <th>4</th>\n",
       "      <td>5</td>\n",
       "      <td>Toyota</td>\n",
       "      <td>Corolla</td>\n",
       "      <td>2375000.0</td>\n",
       "      <td>2019</td>\n",
       "      <td>\\n\\n204 km</td>\n",
       "      <td>\\n\\nManual</td>\n",
       "      <td>Karachi</td>\n",
       "      <td>Black</td>\n",
       "      <td>1300 cc</td>\n",
       "    </tr>\n",
       "  </tbody>\n",
       "</table>\n",
       "</div>"
      ],
      "text/plain": [
       "   ID    Make    Model      Price  Year         Mileage     EngineType  \\\n",
       "0   1  Toyota  Corolla  1975000.0  2016   \\n\\n55,127 km  \\n\\nAutomatic   \n",
       "1   2  Toyota  Corolla        NaN  2018    \\n\\n6,404 km     \\n\\nManual   \n",
       "2   3  Toyota  Corolla        NaN  2015   \\n\\n52,000 km  \\n\\nAutomatic   \n",
       "3   4  Toyota  Corolla  1225000.0  2006  \\n\\n127,000 km  \\n\\nAutomatic   \n",
       "4   5  Toyota  Corolla  2375000.0  2019      \\n\\n204 km     \\n\\nManual   \n",
       "\n",
       "      City        Color EngineCapacity  \n",
       "0  Karachi        Black        1300 cc  \n",
       "1  Karachi  Bronze Mica        1300 cc  \n",
       "2  Karachi       Silver        1300 cc  \n",
       "3   Lahore         Grey        1800 cc  \n",
       "4  Karachi        Black        1300 cc  "
      ]
     },
     "execution_count": 307,
     "metadata": {},
     "output_type": "execute_result"
    }
   ],
   "source": [
    "df.head()"
   ]
  },
  {
   "cell_type": "code",
   "execution_count": 308,
   "metadata": {},
   "outputs": [],
   "source": [
    "df['Mileage']=df['Mileage'].str.replace(',','')\n",
    "df['Mileage']=df['Mileage'].str.extract('(\\d+)')\n",
    "df['Mileage']=pd.to_numeric(df['Mileage'],errors=\"coerce\")"
   ]
  },
  {
   "cell_type": "code",
   "execution_count": 309,
   "metadata": {},
   "outputs": [],
   "source": [
    "df.EngineCapacity=df.EngineCapacity.str.extract('(\\d+)')\n",
    "df.EngineCapacity=pd.to_numeric(df.EngineCapacity,errors=\"coerce\")"
   ]
  },
  {
   "cell_type": "markdown",
   "metadata": {},
   "source": [
    "Engine Type\n",
    "Automatic=0\n",
    "Manual=1"
   ]
  },
  {
   "cell_type": "code",
   "execution_count": 310,
   "metadata": {},
   "outputs": [
    {
     "data": {
      "text/plain": [
       "Index(['ID', 'Make', 'Model', 'Price', 'Year', 'Mileage', 'EngineType', 'City',\n",
       "       'Color', 'EngineCapacity'],\n",
       "      dtype='object')"
      ]
     },
     "execution_count": 310,
     "metadata": {},
     "output_type": "execute_result"
    }
   ],
   "source": [
    "df.columns"
   ]
  },
  {
   "cell_type": "code",
   "execution_count": 311,
   "metadata": {},
   "outputs": [],
   "source": [
    "df['EngineType']=pd.get_dummies(df['EngineType']).iloc[:,1:]"
   ]
  },
  {
   "cell_type": "code",
   "execution_count": 312,
   "metadata": {},
   "outputs": [],
   "source": [
    "dummies=pd.get_dummies(df.Make,prefix='Make')\n",
    "df=pd.concat([df,dummies],axis=1)"
   ]
  },
  {
   "cell_type": "code",
   "execution_count": 313,
   "metadata": {},
   "outputs": [],
   "source": [
    "dummies=pd.get_dummies(df.Model,prefix='Model')\n",
    "df=pd.concat([df,dummies],axis=1)"
   ]
  },
  {
   "cell_type": "markdown",
   "metadata": {},
   "source": [
    "dummies=pd.get_dummies(df.Energy,prefix='Energy')\n",
    "df=pd.concat([df,dummies],axis=1)"
   ]
  },
  {
   "cell_type": "code",
   "execution_count": 314,
   "metadata": {},
   "outputs": [],
   "source": [
    "dummies=pd.get_dummies(df.Color,prefix='Color')\n",
    "df=pd.concat([df,dummies],axis=1)"
   ]
  },
  {
   "cell_type": "code",
   "execution_count": 315,
   "metadata": {},
   "outputs": [],
   "source": [
    "dummies=pd.get_dummies(df.City,prefix='City')\n",
    "df=pd.concat([df,dummies],axis=1)"
   ]
  },
  {
   "cell_type": "code",
   "execution_count": 316,
   "metadata": {},
   "outputs": [],
   "source": [
    "df=df.drop(['Color','City','Make','Model'],axis=1)"
   ]
  },
  {
   "cell_type": "code",
   "execution_count": 320,
   "metadata": {},
   "outputs": [],
   "source": [
    "df=df.dropna()\n",
    "df.columns = map(str.lower, df.columns)\n",
    "df.to_csv(\"cars/preprocessed.csv\")"
   ]
  },
  {
   "cell_type": "code",
   "execution_count": 321,
   "metadata": {},
   "outputs": [
    {
     "data": {
      "text/plain": [
       "(2676, 132)"
      ]
     },
     "execution_count": 321,
     "metadata": {},
     "output_type": "execute_result"
    }
   ],
   "source": [
    "df.shape"
   ]
  }
 ],
 "metadata": {
  "kernelspec": {
   "display_name": "Python 3",
   "language": "python",
   "name": "python3"
  },
  "language_info": {
   "codemirror_mode": {
    "name": "ipython",
    "version": 3
   },
   "file_extension": ".py",
   "mimetype": "text/x-python",
   "name": "python",
   "nbconvert_exporter": "python",
   "pygments_lexer": "ipython3",
   "version": "3.7.1"
  }
 },
 "nbformat": 4,
 "nbformat_minor": 2
}
