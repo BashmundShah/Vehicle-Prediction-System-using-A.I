{
 "cells": [
  {
   "cell_type": "markdown",
   "metadata": {},
   "source": [
    "# Price Prediction"
   ]
  },
  {
   "cell_type": "markdown",
   "metadata": {},
   "source": [
    "## Importing libraries"
   ]
  },
  {
   "cell_type": "code",
   "execution_count": 1,
   "metadata": {},
   "outputs": [],
   "source": [
    "import pickle\n",
    "import pandas as pd\n",
    "import numpy as np"
   ]
  },
  {
   "cell_type": "markdown",
   "metadata": {},
   "source": [
    "## Mapping function to map the user-input into format required by models"
   ]
  },
  {
   "cell_type": "code",
   "execution_count": 2,
   "metadata": {},
   "outputs": [],
   "source": [
    "def mapping(Make,Model,Year,Mileage, EngineType, City, Color, EngineCapacity):\n",
    "    df=pd.read_csv(\"cars/preprocessed.csv\")\n",
    "    df = df.iloc[0:0]\n",
    "    df=df.drop(['price','id','Unnamed: 0'],axis=1)\n",
    "    df.loc[0, 'year'] = Year\n",
    "    df.loc[0, 'mileage'] = Mileage\n",
    "    df.loc[0, 'enginecapacity'] = EngineCapacity\n",
    "    df[df.columns[pd.Series(df.columns).str.startswith('make_')]]=0\n",
    "    df[df.columns[pd.Series(df.columns).str.startswith('model_')]]=0\n",
    "    df[df.columns[pd.Series(df.columns).str.startswith('color_')]]=0\n",
    "    df[df.columns[pd.Series(df.columns).str.startswith('city')]]=0\n",
    "    df.loc[0,df.columns[pd.Series(df.columns).str.startswith('make_'+str.lower(Make))]]=1\n",
    "    df.loc[0,df.columns[pd.Series(df.columns).str.startswith('model_'+str.lower(Model))]]=1\n",
    "    df.loc[0,df.columns[pd.Series(df.columns).str.startswith('color_'+str.lower(Color))]]=1\n",
    "    df.loc[0,df.columns[pd.Series(df.columns).str.startswith('city_'+str.lower(City))]]=1\n",
    "    if(str.lower(EngineType)=='automatic'):\n",
    "        df.loc[0, 'enginetype'] = 0\n",
    "    elif(str.lower(EngineType)=='manual'):\n",
    "        df.loc[0, 'enginetype'] = 1\n",
    "    df=df.astype('int64')\n",
    "    return df"
   ]
  },
  {
   "cell_type": "code",
   "execution_count": 16,
   "metadata": {},
   "outputs": [],
   "source": [
    "df=mapping(Make='Suzuki',Model='Mehran',Year=2014,Mileage=38500, EngineType='manual', City='islamabad', Color='silver', EngineCapacity=800)"
   ]
  },
  {
   "cell_type": "markdown",
   "metadata": {},
   "source": [
    "## Loading the trained models"
   ]
  },
  {
   "cell_type": "code",
   "execution_count": 17,
   "metadata": {},
   "outputs": [],
   "source": [
    "lr = pickle.load(open('Models/linear_model.sav', 'rb'))\n",
    "gbr = pickle.load(open('Models/gradientbooster_model.sav', 'rb'))\n",
    "rfr = pickle.load(open('Models/randomforest_model.sav', 'rb'))"
   ]
  },
  {
   "cell_type": "markdown",
   "metadata": {},
   "source": [
    "## Predicting the price"
   ]
  },
  {
   "cell_type": "code",
   "execution_count": 18,
   "metadata": {},
   "outputs": [],
   "source": [
    "ylr=np.round(lr.predict(df),-3)\n",
    "ygbr=np.round(gbr.predict(df),-3)\n",
    "yrfr=np.round(rfr.predict(df),-3)"
   ]
  },
  {
   "cell_type": "code",
   "execution_count": 19,
   "metadata": {},
   "outputs": [
    {
     "name": "stdout",
     "output_type": "stream",
     "text": [
      "[750000.]\n",
      "[681000.]\n",
      "[633000.]\n",
      "[657000.]\n"
     ]
    }
   ],
   "source": [
    "print(ylr)\n",
    "print(ygbr)\n",
    "print(yrfr)\n",
    "print((ygbr+yrfr)/2)"
   ]
  },
  {
   "cell_type": "code",
   "execution_count": 9,
   "metadata": {},
   "outputs": [],
   "source": [
    "import numpy as np\n",
    "x=[0,1,1,0,1,0,1,0,0,0,1]\n",
    "temp=[0]*len(x)\n",
    "a=0\n",
    "b=len(x)-1\n",
    "for i in range(0,len(x)):\n",
    "    if(b==1\n",
    "        temp[b]=1\n",
    "        b-=1\n",
    "        "
   ]
  }
 ],
 "metadata": {
  "kernelspec": {
   "display_name": "Python 3",
   "language": "python",
   "name": "python3"
  },
  "language_info": {
   "codemirror_mode": {
    "name": "ipython",
    "version": 3
   },
   "file_extension": ".py",
   "mimetype": "text/x-python",
   "name": "python",
   "nbconvert_exporter": "python",
   "pygments_lexer": "ipython3",
   "version": "3.7.1"
  }
 },
 "nbformat": 4,
 "nbformat_minor": 2
}
